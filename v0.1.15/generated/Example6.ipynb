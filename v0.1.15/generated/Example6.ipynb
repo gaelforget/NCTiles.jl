{
 "cells": [
  {
   "cell_type": "markdown",
   "source": [
    "# Example 6 : Climatological Mean\n",
    "\n",
    "An example of one tile with a climatology time axis from the global ocean domain available in https://github.com/gaelforget/nctiles-testcases"
   ],
   "metadata": {}
  },
  {
   "outputs": [],
   "cell_type": "code",
   "source": [
    "using NCTiles,NCDatasets"
   ],
   "metadata": {},
   "execution_count": 1
  },
  {
   "cell_type": "markdown",
   "source": [
    "File Paths"
   ],
   "metadata": {}
  },
  {
   "outputs": [],
   "cell_type": "code",
   "source": [
    "inputs=NCTiles.NCTILES_TESTCASES\n",
    "NCTiles.ensure_testcases_installed()\n",
    "\n",
    "outputs = joinpath(tempdir(),\"NCTILES_TESTCASES_OUTPUT/\")\n",
    "if ~ispath(outputs); mkpath(outputs); end\n",
    "\n",
    "savedir = joinpath(outputs,\"ex6\")\n",
    "if ~ispath(savedir); mkpath(savedir); end\n",
    "\n",
    "field_name = \"FeT\"\n",
    "README = [field_name*\" -- Source: Gael Forget; version: alpha.\"];"
   ],
   "metadata": {},
   "execution_count": 2
  },
  {
   "cell_type": "markdown",
   "source": [
    "### One tile example"
   ],
   "metadata": {}
  },
  {
   "outputs": [
    {
     "output_type": "execute_result",
     "data": {
      "text/plain": "closed NetCDF NCDataset"
     },
     "metadata": {},
     "execution_count": 3
    }
   ],
   "cell_type": "code",
   "source": [
    "ncvars,ncdims,fileatts = readncfile(joinpath(inputs,\"diags_nctiles/FeT.0062.nc\"))\n",
    "rm(joinpath(savedir,\"ex6a.nc\"),force=true)\n",
    "write(ncvars,joinpath(savedir,\"ex6a.nc\"),README=README)"
   ],
   "metadata": {},
   "execution_count": 3
  },
  {
   "cell_type": "markdown",
   "source": [
    "### Define Dimensions\n",
    "\n",
    "For reference:\n",
    "\n",
    "\n",
    "```\n",
    "- i_c: NCvar(\"i_c\", \"1\", 30, 1.0:30.0, Dict(\"units\" => \"1\",\"long_name\" => \"Cartesian coordinate 1\"), NCDatasets)\n",
    "- j_c: NCvar(\"j_c\", \"1\", 30, 1.0:30.0, Dict(\"units\" => \"1\",\"long_name\" => \"Cartesian coordinate 2\"), NCDatasets)\n",
    "- k_c: NCvar(\"k_c\", \"1\", 50, 1.0:50.0, Dict(\"units\" => \"1\",\"long_name\" => \"Cartesian coordinate 3\"), NCDatasets)\n",
    "- t:   NCvar(\"t\", \"1\", 12, 1.0:12.0, Dict(\"units\" => \"1\",\"long_name\" => \"Time coordinate\"), NCDatasets)\n",
    "- tcb:  NCvar(\"tcb\", \"\", 2, Any[], Dict{Any,Any}(), NCDatasets)\n",
    "```\n",
    "\n",
    "\n",
    "Note : tcb is unitles, only has a dimension, no values"
   ],
   "metadata": {}
  },
  {
   "outputs": [
    {
     "output_type": "execute_result",
     "data": {
      "text/plain": "2-element Vector{NCvar}:\n NCvar(\"tcb\", \"\", 2, Any[], Dict{Any, Any}(), NCDatasets)\n NCvar(\"t\", \"1\", 12, [1.0, 2.0, 3.0, 4.0, 5.0, 6.0, 7.0, 8.0, 9.0, 10.0, 11.0, 12.0], Dict(\"units\" => \"1\", \"long_name\" => \"Time coordinate\"), NCDatasets)"
     },
     "metadata": {},
     "execution_count": 4
    }
   ],
   "cell_type": "code",
   "source": [
    "FeT_dims = [ncdims[\"i_c\"],\n",
    "                ncdims[\"j_c\"],\n",
    "                ncdims[\"k_c\"],\n",
    "                ncdims[\"t\"]]\n",
    "clim_dims = [ncdims[\"tcb\"],\n",
    "                ncdims[\"t\"]]"
   ],
   "metadata": {},
   "execution_count": 4
  },
  {
   "cell_type": "markdown",
   "source": [
    "### Define Variables\n",
    "\n",
    "Note : lat, lon, dep, tim, thic, area, land defined same as non-climatology example"
   ],
   "metadata": {}
  },
  {
   "outputs": [
    {
     "output_type": "execute_result",
     "data": {
      "text/plain": "NCvar(\"climatology_bounds\", \"days since 1992-1-1 0:0:0\", NCvar[NCvar(\"tcb\", \"\", 2, Any[], Dict{Any, Any}(), NCDatasets), NCvar(\"t\", \"1\", 12, [1.0, 2.0, 3.0, 4.0, 5.0, 6.0, 7.0, 8.0, 9.0, 10.0, 11.0, 12.0], Dict(\"units\" => \"1\", \"long_name\" => \"Time coordinate\"), NCDatasets)], NCData(\"/home/runner/.julia/artifacts/4c36bdda8c1f8388b7f6de8da17d965dab33431e/nctiles-testcases-0.1/diags_nctiles/FeT.0062.nc\", \"climatology_bounds\", NCDatasets, Float32), Dict(\"long_name\" => \"climatology_bounds\"), NCDatasets)"
     },
     "metadata": {},
     "execution_count": 5
    }
   ],
   "cell_type": "code",
   "source": [
    "FeT = NCvar(\"FeT\", # name\n",
    "                \"mmol Fe\", # units\n",
    "                FeT_dims, # dimensions\n",
    "                NCData(joinpath(inputs,\"diags_nctiles/FeT.0062.nc\"), \"FeT\", NCDatasets, Float32), # values- to be read from file\n",
    "                Dict(\"coordinates\" => \"lon lat dep tim\",\"long_name\" => \"FeT concentration\"), # attributes\n",
    "                NCDatasets) # backend\n",
    "\n",
    "climatology_bounds = NCvar(\"climatology_bounds\", # name\n",
    "                                \"days since 1992-1-1 0:0:0\", # units\n",
    "                                clim_dims, # dimensions\n",
    "                                NCData(joinpath(inputs,\"diags_nctiles/FeT.0062.nc\"), \"climatology_bounds\", NCDatasets, Float32), # values- to be read from file\n",
    "                                Dict(\"long_name\" => \"climatology_bounds\"), # attributes\n",
    "                                ncvars[\"climatology_bounds\"].backend) # backend"
   ],
   "metadata": {},
   "execution_count": 5
  },
  {
   "cell_type": "markdown",
   "source": [
    "Write to file"
   ],
   "metadata": {}
  },
  {
   "outputs": [
    {
     "output_type": "execute_result",
     "data": {
      "text/plain": "closed NetCDF NCDataset"
     },
     "metadata": {},
     "execution_count": 6
    }
   ],
   "cell_type": "code",
   "source": [
    "writevars = Dict([\"FeT\" => FeT,\n",
    "                \"lon\" => ncvars[\"lon\"],\n",
    "                \"lat\" => ncvars[\"lat\"],\n",
    "                \"dep\" => ncvars[\"dep\"],\n",
    "                \"tim\" => ncvars[\"tim\"],\n",
    "                \"thic\" => ncvars[\"thic\"],\n",
    "                \"area\" => ncvars[\"area\"],\n",
    "                \"land\" => ncvars[\"land\"],\n",
    "                \"climatology_bounds\" => climatology_bounds])\n",
    "rm(joinpath(savedir,\"ex6b.nc\"),force=true)\n",
    "write(writevars,joinpath(savedir,\"ex6b.nc\"),README=README)"
   ],
   "metadata": {},
   "execution_count": 6
  },
  {
   "cell_type": "markdown",
   "source": [
    "---\n",
    "\n",
    "*This notebook was generated using [Literate.jl](https://github.com/fredrikekre/Literate.jl).*"
   ],
   "metadata": {}
  }
 ],
 "nbformat_minor": 3,
 "metadata": {
  "language_info": {
   "file_extension": ".jl",
   "mimetype": "application/julia",
   "name": "julia",
   "version": "1.7.3"
  },
  "kernelspec": {
   "name": "julia-1.7",
   "display_name": "Julia 1.7.3",
   "language": "julia"
  }
 },
 "nbformat": 4
}
