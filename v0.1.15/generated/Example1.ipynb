{
 "cells": [
  {
   "cell_type": "markdown",
   "source": [
    "# Example 1 : Regular Grid\n",
    "\n",
    "- two-dimensional fields on a regular `longitude,latitude` grid are retrieved from binary files\n",
    "- they are then written to a new netcdf file using `NCTiles.write()`\n",
    "\n",
    "This example illustrates the use of either `NCDatasets.jl` or `NetCDF.jl` as the backend."
   ],
   "metadata": {}
  },
  {
   "outputs": [],
   "cell_type": "code",
   "source": [
    "using NCTiles, NCDatasets, NetCDF"
   ],
   "metadata": {},
   "execution_count": 1
  },
  {
   "cell_type": "markdown",
   "source": [
    "### File Paths"
   ],
   "metadata": {}
  },
  {
   "outputs": [
    {
     "name": "stdout",
     "output_type": "stream",
     "text": [
      " Downloading artifact: NCTILES_TESTCASES\n"
     ]
    },
    {
     "output_type": "execute_result",
     "data": {
      "text/plain": "\"/tmp/NCTILES_TESTCASES_OUTPUT/ex1\""
     },
     "metadata": {},
     "execution_count": 2
    }
   ],
   "cell_type": "code",
   "source": [
    "inputs=NCTiles.NCTILES_TESTCASES\n",
    "NCTiles.ensure_testcases_installed()\n",
    "\n",
    "outputs = joinpath(tempdir(),\"NCTILES_TESTCASES_OUTPUT/\")\n",
    "if ~ispath(outputs); mkpath(outputs); end\n",
    "\n",
    "selectfields = [\"ETAN\"]\n",
    "indir = joinpath(inputs,\"diags_interp\",selectfields[1])\n",
    "fnames = joinpath.(Ref(indir),filter(x -> occursin(\".data\",x), readdir(indir)))\n",
    "\n",
    "savedir = joinpath(outputs,\"ex1\")\n",
    "if ~ispath(savedir); mkpath(savedir); end"
   ],
   "metadata": {},
   "execution_count": 2
  },
  {
   "cell_type": "markdown",
   "source": [
    "### Grid specifications & Metadata"
   ],
   "metadata": {}
  },
  {
   "outputs": [
    {
     "output_type": "execute_result",
     "data": {
      "text/plain": "\"m\""
     },
     "metadata": {},
     "execution_count": 3
    }
   ],
   "cell_type": "code",
   "source": [
    "prec = Float32\n",
    "README = readlines(joinpath(inputs,\"README\"))\n",
    "lon=-179.75:0.5:179.75; lat=-89.75:0.5:89.75;\n",
    "n1,n2 = (length(lon),length(lat))\n",
    "tim_units = \"days since 1992-01-01\"\n",
    "tim = vec([14.0 45.0 74.0])\n",
    "longname = \"Surface Height Anomaly\"\n",
    "units = \"m\""
   ],
   "metadata": {},
   "execution_count": 3
  },
  {
   "cell_type": "markdown",
   "source": [
    "### 1. Using `NCDatasets.jl` As The Backend"
   ],
   "metadata": {}
  },
  {
   "cell_type": "markdown",
   "source": [
    "Define Dimensions as `NCvar`s"
   ],
   "metadata": {}
  },
  {
   "outputs": [
    {
     "output_type": "execute_result",
     "data": {
      "text/plain": "3-element Vector{NCvar}:\n NCvar(\"lon_c\", \"degrees_east\", (720,), -179.75:0.5:179.75, Dict(\"long_name\" => \"longitude\"), NCDatasets)\n NCvar(\"lat_c\", \"degrees_north\", (360,), -89.75:0.5:89.75, Dict(\"long_name\" => \"latitude\"), NCDatasets)\n NCvar(\"tim\", \"days since 1992-01-01\", Inf, [14.0, 45.0, 74.0], Dict(\"long_name\" => \"tim\", \"standard_name\" => \"time\"), NCDatasets)"
     },
     "metadata": {},
     "execution_count": 4
    }
   ],
   "cell_type": "code",
   "source": [
    "dims = [NCvar(\"lon_c\",\"degrees_east\",size(lon),lon,Dict(\"long_name\" => \"longitude\"),NCDatasets),\n",
    "        NCvar(\"lat_c\",\"degrees_north\",size(lat),lat,Dict(\"long_name\" => \"latitude\"),NCDatasets),\n",
    "        NCvar(\"tim\",tim_units,Inf,tim,Dict((\"long_name\" => \"tim\",\"standard_name\" => \"time\")),NCDatasets)\n",
    "        ]"
   ],
   "metadata": {},
   "execution_count": 4
  },
  {
   "cell_type": "markdown",
   "source": [
    "Define Variable Array as `BinData`"
   ],
   "metadata": {}
  },
  {
   "outputs": [
    {
     "output_type": "execute_result",
     "data": {
      "text/plain": "NCvar(\"ETAN\", \"m\", NCvar[NCvar(\"lon_c\", \"degrees_east\", (720,), -179.75:0.5:179.75, Dict(\"long_name\" => \"longitude\"), NCDatasets), NCvar(\"lat_c\", \"degrees_north\", (360,), -89.75:0.5:89.75, Dict(\"long_name\" => \"latitude\"), NCDatasets), NCvar(\"tim\", \"days since 1992-01-01\", Inf, [14.0, 45.0, 74.0], Dict(\"long_name\" => \"tim\", \"standard_name\" => \"time\"), NCDatasets)], BinData([\"/home/runner/.julia/artifacts/4c36bdda8c1f8388b7f6de8da17d965dab33431e/nctiles-testcases-0.1/diags_interp/ETAN/ETAN.0000000732.data\", \"/home/runner/.julia/artifacts/4c36bdda8c1f8388b7f6de8da17d965dab33431e/nctiles-testcases-0.1/diags_interp/ETAN/ETAN.0000001428.data\", \"/home/runner/.julia/artifacts/4c36bdda8c1f8388b7f6de8da17d965dab33431e/nctiles-testcases-0.1/diags_interp/ETAN/ETAN.0000002172.data\"], Float32, (720, 360), 1), Dict(\"long_name\" => \"Surface Height Anomaly\"), NCDatasets)"
     },
     "metadata": {},
     "execution_count": 5
    }
   ],
   "cell_type": "code",
   "source": [
    "fielddata = BinData(fnames,prec,(n1,n2))\n",
    "field = NCvar(selectfields[1],units,dims,fielddata,Dict(\"long_name\" => longname),NCDatasets)"
   ],
   "metadata": {},
   "execution_count": 5
  },
  {
   "cell_type": "markdown",
   "source": [
    "Create the NetCDF file and populate with dimensions and variable"
   ],
   "metadata": {}
  },
  {
   "outputs": [
    {
     "output_type": "execute_result",
     "data": {
      "text/plain": "closed NetCDF NCDataset"
     },
     "metadata": {},
     "execution_count": 6
    }
   ],
   "cell_type": "code",
   "source": [
    "write(field,joinpath(savedir,\"ex1_NCDatasets.nc\"),README=README)"
   ],
   "metadata": {},
   "execution_count": 6
  },
  {
   "cell_type": "markdown",
   "source": [
    "### 2. Using `NetCDF.jl` As The Backend"
   ],
   "metadata": {}
  },
  {
   "cell_type": "markdown",
   "source": [
    "Define Dimensions as `NCvar`s"
   ],
   "metadata": {}
  },
  {
   "outputs": [
    {
     "output_type": "execute_result",
     "data": {
      "text/plain": "3-element Vector{NCvar}:\n NCvar(\"lon_c\", \"degrees_east\", (720,), -179.75:0.5:179.75, Dict(\"long_name\" => \"longitude\"), NetCDF)\n NCvar(\"lat_c\", \"degrees_north\", (360,), -89.75:0.5:89.75, Dict(\"long_name\" => \"latitude\"), NetCDF)\n NCvar(\"tim\", \"days since 1992-01-01\", Inf, [14.0, 45.0, 74.0], Dict(\"long_name\" => \"time\", \"standard_name\" => \"time\"), NetCDF)"
     },
     "metadata": {},
     "execution_count": 7
    }
   ],
   "cell_type": "code",
   "source": [
    "dims = [NCvar(\"lon_c\",\"degrees_east\",size(lon),lon,Dict(\"long_name\" => \"longitude\"),NetCDF),\n",
    "        NCvar(\"lat_c\",\"degrees_north\",size(lat),lat,Dict(\"long_name\" => \"latitude\"),NetCDF),\n",
    "        NCvar(\"tim\",tim_units,Inf,tim,Dict((\"long_name\" => \"time\",\"standard_name\" => \"time\")),NetCDF)\n",
    "        ]"
   ],
   "metadata": {},
   "execution_count": 7
  },
  {
   "cell_type": "markdown",
   "source": [
    "Define Variable Array as `BinData`"
   ],
   "metadata": {}
  },
  {
   "outputs": [],
   "cell_type": "code",
   "source": [
    "fielddata = BinData(fnames,prec,(n1,n2))\n",
    "field = NCvar(selectfields[1],units,dims,fielddata,Dict(\"long_name\" => longname),NetCDF)\n",
    "\n",
    "write(field,joinpath(savedir,\"ex1_NetCDF.nc\"),README=README)"
   ],
   "metadata": {},
   "execution_count": 8
  },
  {
   "cell_type": "markdown",
   "source": [
    "_Note: the `write` function is a shorthand for_\n",
    "\n",
    "```\n",
    "# Create the NetCDF file and populate with dimension and field info, as well as dimension data\n",
    "ncfile,fldvar,dimlist = createfile(joinpath(savedir,\"ex1_NetCDF.nc\"),field,README)\n",
    "\n",
    "# Add field data\n",
    "addData(fldvar,field)\n",
    "\n",
    "# Close the file-  only needed for NetCDF v < 0.10\n",
    "finalize(ncfile)\n",
    "```"
   ],
   "metadata": {}
  },
  {
   "cell_type": "markdown",
   "source": [
    "---\n",
    "\n",
    "*This notebook was generated using [Literate.jl](https://github.com/fredrikekre/Literate.jl).*"
   ],
   "metadata": {}
  }
 ],
 "nbformat_minor": 3,
 "metadata": {
  "language_info": {
   "file_extension": ".jl",
   "mimetype": "application/julia",
   "name": "julia",
   "version": "1.7.3"
  },
  "kernelspec": {
   "name": "julia-1.7",
   "display_name": "Julia 1.7.3",
   "language": "julia"
  }
 },
 "nbformat": 4
}
