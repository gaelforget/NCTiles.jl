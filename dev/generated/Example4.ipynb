{
 "cells": [
  {
   "cell_type": "markdown",
   "source": [
    "# Example 4 : Group Variables\n",
    "\n",
    "Two variables (three-dimensional ones) are read from the netcdf files generated in `Example3`, combined into a single data structure, and then re-written together into a new netcdf file."
   ],
   "metadata": {}
  },
  {
   "outputs": [
    {
     "output_type": "execute_result",
     "data": {
      "text/plain": "3-element Vector{String}:\n \"Please replace this placeholder file with a descriptive\"\n \"paragraph that may provide a product name, version #,\"\n \"and contact point for user support.\""
     },
     "metadata": {},
     "execution_count": 1
    }
   ],
   "cell_type": "code",
   "source": [
    "using NCTiles, NCDatasets\n",
    "\n",
    "inputs=NCTiles.NCTILES_TESTCASES\n",
    "NCTiles.ensure_testcases_installed()\n",
    "outputs = joinpath(tempdir(),\"NCTILES_TESTCASES_OUTPUT/\")\n",
    "nt=\"0003\"\n",
    "\n",
    "file_in1=outputs*\"ex3/THETA/THETA.$nt.nc\"\n",
    "file_in2=outputs*\"ex3/SALT/SALT.$nt.nc\"\n",
    "~isfile(file_in1) ? error(\"Running Example3 first is needed to run Example4\") : nothing\n",
    "\n",
    "file_out=outputs*\"ex4/TS.$nt.nc\"\n",
    "if ~ispath(outputs*\"ex4/\"); mkpath(outputs*\"ex4/\"); end\n",
    "\n",
    "README = readlines(joinpath(inputs,\"README\"))"
   ],
   "metadata": {},
   "execution_count": 1
  },
  {
   "cell_type": "markdown",
   "source": [
    "Get the first 3D variable"
   ],
   "metadata": {}
  },
  {
   "outputs": [
    {
     "output_type": "execute_result",
     "data": {
      "text/plain": "(Dict{AbstractString, NCvar}(\"lat\" => NCvar(\"lat\", \"degrees_north\", NCvar[NCvar(\"i_c\", \"1\", 90, NCData(\"/tmp/NCTILES_TESTCASES_OUTPUT/ex3/THETA/THETA.0003.nc\", \"i_c\", NCDatasets, Int64), Dict(\"units\" => \"1\", \"long_name\" => \"Cartesian coordinate 1\"), NCDatasets), NCvar(\"j_c\", \"1\", 90, NCData(\"/tmp/NCTILES_TESTCASES_OUTPUT/ex3/THETA/THETA.0003.nc\", \"j_c\", NCDatasets, Int64), Dict(\"units\" => \"1\", \"long_name\" => \"Cartesian coordinate 2\"), NCDatasets)], Float32[10.458642 11.438585 … NaN NaN; 10.458642 11.438585 … NaN NaN; … ; NaN NaN … NaN NaN; 10.458642 11.438585 … NaN NaN], Dict(\"units\" => \"degrees_north\", \"long_name\" => \"latitude\"), NCDatasets), \"thic\" => NCvar(\"thic\", \"m\", NCvar[NCvar(\"dep_c\", \"m\", 50, NCData(\"/tmp/NCTILES_TESTCASES_OUTPUT/ex3/THETA/THETA.0003.nc\", \"dep_c\", NCDatasets, Float32), Dict(\"units\" => \"m\", \"long_name\" => \"depth\", \"standard_name\" => \"depth\", \"positive\" => \"down\"), NCDatasets)], Float32[10.0, 10.0, 10.0, 10.0, 10.0, 10.0, 10.0, 10.01, 10.03, 10.11  …  249.5, 272.5, 295.5, 318.5, 341.5, 364.5, 387.5, 410.5, 433.5, 456.5], Dict(\"units\" => \"m\", \"standard_name\" => \"cell_thickness\"), NCDatasets), \"area\" => NCvar(\"area\", \"m^2\", NCvar[NCvar(\"i_c\", \"1\", 90, NCData(\"/tmp/NCTILES_TESTCASES_OUTPUT/ex3/THETA/THETA.0003.nc\", \"i_c\", NCDatasets, Int64), Dict(\"units\" => \"1\", \"long_name\" => \"Cartesian coordinate 1\"), NCDatasets), NCvar(\"j_c\", \"1\", 90, NCData(\"/tmp/NCTILES_TESTCASES_OUTPUT/ex3/THETA/THETA.0003.nc\", \"j_c\", NCDatasets, Int64), Dict(\"units\" => \"1\", \"long_name\" => \"Cartesian coordinate 2\"), NCDatasets)], Float32[1.1896091f10 1.1875574f10 … NaN NaN; 1.1896091f10 1.1875574f10 … NaN NaN; … ; NaN NaN … NaN NaN; 1.1896091f10 1.1875574f10 … NaN NaN], Dict(\"units\" => \"m^2\", \"long_name\" => \"grid cell area\", \"standard_name\" => \"cell_area\"), NCDatasets), \"THETA\" => NCvar(\"THETA\", \"degC\", NCvar[NCvar(\"i_c\", \"1\", 90, NCData(\"/tmp/NCTILES_TESTCASES_OUTPUT/ex3/THETA/THETA.0003.nc\", \"i_c\", NCDatasets, Int64), Dict(\"units\" => \"1\", \"long_name\" => \"Cartesian coordinate 1\"), NCDatasets), NCvar(\"j_c\", \"1\", 90, NCData(\"/tmp/NCTILES_TESTCASES_OUTPUT/ex3/THETA/THETA.0003.nc\", \"j_c\", NCDatasets, Int64), Dict(\"units\" => \"1\", \"long_name\" => \"Cartesian coordinate 2\"), NCDatasets), NCvar(\"dep_c\", \"m\", 50, NCData(\"/tmp/NCTILES_TESTCASES_OUTPUT/ex3/THETA/THETA.0003.nc\", \"dep_c\", NCDatasets, Float32), Dict(\"units\" => \"m\", \"long_name\" => \"depth\", \"standard_name\" => \"depth\", \"positive\" => \"down\"), NCDatasets), NCvar(\"tim\", \"days since 1992-01-01 0:0:0\", 3, NCData(\"/tmp/NCTILES_TESTCASES_OUTPUT/ex3/THETA/THETA.0003.nc\", \"tim\", NCDatasets, Dates.DateTime), Dict(\"units\" => \"days since 1992-01-01 0:0:0\", \"long_name\" => \"time\", \"standard_name\" => \"time\"), NCDatasets)], NCData(\"/tmp/NCTILES_TESTCASES_OUTPUT/ex3/THETA/THETA.0003.nc\", \"THETA\", NCDatasets, Float32), Dict(\"units\" => \"degC\", \"coordinates\" => \"lon lat dep_c tim\", \"long_name\" => \"Potential Temperature\"), NCDatasets), \"land\" => NCvar(\"land\", \"1\", NCvar[NCvar(\"i_c\", \"1\", 90, NCData(\"/tmp/NCTILES_TESTCASES_OUTPUT/ex3/THETA/THETA.0003.nc\", \"i_c\", NCDatasets, Int64), Dict(\"units\" => \"1\", \"long_name\" => \"Cartesian coordinate 1\"), NCDatasets), NCvar(\"j_c\", \"1\", 90, NCData(\"/tmp/NCTILES_TESTCASES_OUTPUT/ex3/THETA/THETA.0003.nc\", \"j_c\", NCDatasets, Int64), Dict(\"units\" => \"1\", \"long_name\" => \"Cartesian coordinate 2\"), NCDatasets), NCvar(\"dep_c\", \"m\", 50, NCData(\"/tmp/NCTILES_TESTCASES_OUTPUT/ex3/THETA/THETA.0003.nc\", \"dep_c\", NCDatasets, Float32), Dict(\"units\" => \"m\", \"long_name\" => \"depth\", \"standard_name\" => \"depth\", \"positive\" => \"down\"), NCDatasets)], Float32[1.0 1.0 … NaN NaN; 1.0 1.0 … NaN NaN; … ; NaN NaN … NaN NaN; 1.0 1.0 … NaN NaN]\n\nFloat32[1.0 1.0 … NaN NaN; 1.0 1.0 … NaN NaN; … ; NaN NaN … NaN NaN; 1.0 1.0 … NaN NaN]\n\nFloat32[1.0 1.0 … NaN NaN; 1.0 1.0 … NaN NaN; … ; NaN NaN … NaN NaN; 1.0 1.0 … NaN NaN]\n\n...\n\nFloat32[NaN 1.0 … NaN NaN; NaN 1.0 … NaN NaN; … ; NaN NaN … NaN NaN; NaN NaN … NaN NaN]\n\nFloat32[NaN NaN … NaN NaN; NaN NaN … NaN NaN; … ; NaN NaN … NaN NaN; NaN NaN … NaN NaN]\n\nFloat32[NaN NaN … NaN NaN; NaN NaN … NaN NaN; … ; NaN NaN … NaN NaN; NaN NaN … NaN NaN], Dict(\"units\" => \"1\", \"long_name\" => \"land mask\", \"standard_name\" => \"land_binary_mask\"), NCDatasets), \"lon\" => NCvar(\"lon\", \"degrees_east\", NCvar[NCvar(\"i_c\", \"1\", 90, NCData(\"/tmp/NCTILES_TESTCASES_OUTPUT/ex3/THETA/THETA.0003.nc\", \"i_c\", NCDatasets, Int64), Dict(\"units\" => \"1\", \"long_name\" => \"Cartesian coordinate 1\"), NCDatasets), NCvar(\"j_c\", \"1\", 90, NCData(\"/tmp/NCTILES_TESTCASES_OUTPUT/ex3/THETA/THETA.0003.nc\", \"j_c\", NCDatasets, Int64), Dict(\"units\" => \"1\", \"long_name\" => \"Cartesian coordinate 2\"), NCDatasets)], Float32[-37.5 -37.5 … NaN NaN; -36.5 -36.5 … NaN NaN; … ; NaN NaN … NaN NaN; 51.5 51.5 … NaN NaN], Dict(\"units\" => \"degrees_east\", \"long_name\" => \"longitude\"), NCDatasets)), Dict{AbstractString, NCvar}(\"i_c\" => NCvar(\"i_c\", \"1\", 90, NCData(\"/tmp/NCTILES_TESTCASES_OUTPUT/ex3/THETA/THETA.0003.nc\", \"i_c\", NCDatasets, Int64), Dict(\"units\" => \"1\", \"long_name\" => \"Cartesian coordinate 1\"), NCDatasets), \"dep_c\" => NCvar(\"dep_c\", \"m\", 50, NCData(\"/tmp/NCTILES_TESTCASES_OUTPUT/ex3/THETA/THETA.0003.nc\", \"dep_c\", NCDatasets, Float32), Dict(\"units\" => \"m\", \"long_name\" => \"depth\", \"standard_name\" => \"depth\", \"positive\" => \"down\"), NCDatasets), \"j_c\" => NCvar(\"j_c\", \"1\", 90, NCData(\"/tmp/NCTILES_TESTCASES_OUTPUT/ex3/THETA/THETA.0003.nc\", \"j_c\", NCDatasets, Int64), Dict(\"units\" => \"1\", \"long_name\" => \"Cartesian coordinate 2\"), NCDatasets), \"tim\" => NCvar(\"tim\", \"days since 1992-01-01 0:0:0\", 3, NCData(\"/tmp/NCTILES_TESTCASES_OUTPUT/ex3/THETA/THETA.0003.nc\", \"tim\", NCDatasets, Dates.DateTime), Dict(\"units\" => \"days since 1992-01-01 0:0:0\", \"long_name\" => \"time\", \"standard_name\" => \"time\"), NCDatasets)), Dict{Any, Any}(\"missing_value\" => NaN, \"ntile\" => 13.0, \"itile\" => 3.0, \"_FillValue\" => NaN))"
     },
     "metadata": {},
     "execution_count": 2
    }
   ],
   "cell_type": "code",
   "source": [
    "ncvars,ncdims,fileatts = readncfile(file_in1)"
   ],
   "metadata": {},
   "execution_count": 2
  },
  {
   "cell_type": "markdown",
   "source": [
    "Add a second 3D variable"
   ],
   "metadata": {}
  },
  {
   "outputs": [
    {
     "output_type": "execute_result",
     "data": {
      "text/plain": "NCvar(\"SALT\", \"psu\", NCvar[NCvar(\"i_c\", \"1\", 90, NCData(\"/tmp/NCTILES_TESTCASES_OUTPUT/ex3/THETA/THETA.0003.nc\", \"i_c\", NCDatasets, Int64), Dict(\"units\" => \"1\", \"long_name\" => \"Cartesian coordinate 1\"), NCDatasets), NCvar(\"j_c\", \"1\", 90, NCData(\"/tmp/NCTILES_TESTCASES_OUTPUT/ex3/THETA/THETA.0003.nc\", \"j_c\", NCDatasets, Int64), Dict(\"units\" => \"1\", \"long_name\" => \"Cartesian coordinate 2\"), NCDatasets), NCvar(\"dep_c\", \"m\", 50, NCData(\"/tmp/NCTILES_TESTCASES_OUTPUT/ex3/THETA/THETA.0003.nc\", \"dep_c\", NCDatasets, Float32), Dict(\"units\" => \"m\", \"long_name\" => \"depth\", \"standard_name\" => \"depth\", \"positive\" => \"down\"), NCDatasets), NCvar(\"tim\", \"days since 1992-01-01 0:0:0\", 3, NCData(\"/tmp/NCTILES_TESTCASES_OUTPUT/ex3/THETA/THETA.0003.nc\", \"tim\", NCDatasets, Dates.DateTime), Dict(\"units\" => \"days since 1992-01-01 0:0:0\", \"long_name\" => \"time\", \"standard_name\" => \"time\"), NCDatasets)], NCData(\"/tmp/NCTILES_TESTCASES_OUTPUT/ex3/SALT/SALT.0003.nc\", \"SALT\", NCDatasets, Float32), Dict(\"units\" => \"psu\", \"coordinates\" => \"lon lat dep_c tim\", \"long_name\" => \"Salinity\"), NCDatasets)"
     },
     "metadata": {},
     "execution_count": 3
    }
   ],
   "cell_type": "code",
   "source": [
    "tmp,_,_ = readncfile(file_in2)\n",
    "T=ncvars[\"THETA\"]\n",
    "S=tmp[\"SALT\"]\n",
    "ncvars[\"SALT\"]=NCvar(S.name,S.units,T.dims,S.values,S.atts,T.backend)"
   ],
   "metadata": {},
   "execution_count": 3
  },
  {
   "cell_type": "markdown",
   "source": [
    "Rewrite to a new file"
   ],
   "metadata": {}
  },
  {
   "outputs": [
    {
     "output_type": "execute_result",
     "data": {
      "text/plain": "closed NetCDF NCDataset"
     },
     "metadata": {},
     "execution_count": 4
    }
   ],
   "cell_type": "code",
   "source": [
    "write(ncvars,file_out,README=README,globalattribs=fileatts)"
   ],
   "metadata": {},
   "execution_count": 4
  },
  {
   "cell_type": "markdown",
   "source": [
    "---\n",
    "\n",
    "*This notebook was generated using [Literate.jl](https://github.com/fredrikekre/Literate.jl).*"
   ],
   "metadata": {}
  }
 ],
 "nbformat_minor": 3,
 "metadata": {
  "language_info": {
   "file_extension": ".jl",
   "mimetype": "application/julia",
   "name": "julia",
   "version": "1.6.3"
  },
  "kernelspec": {
   "name": "julia-1.6",
   "display_name": "Julia 1.6.3",
   "language": "julia"
  }
 },
 "nbformat": 4
}
