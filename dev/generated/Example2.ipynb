{
 "cells": [
  {
   "cell_type": "markdown",
   "source": [
    "# Example 2 : Lazily Read\n",
    "\n",
    "Two-dimensional fields are read from the netcdf file generated in `Example1`, and then re-written to a new netcdf file."
   ],
   "metadata": {}
  },
  {
   "outputs": [],
   "cell_type": "code",
   "source": [
    "using NCTiles,NetCDF\n",
    "\n",
    "inputs=NCTiles.NCTILES_TESTCASES\n",
    "NCTiles.ensure_testcases_installed()\n",
    "\n",
    "outputs = joinpath(tempdir(),\"NCTILES_TESTCASES_OUTPUT/\")\n",
    "if ~ispath(outputs); mkpath(outputs); end"
   ],
   "metadata": {},
   "execution_count": 1
  },
  {
   "cell_type": "markdown",
   "source": [
    "Using NCDatasets backend"
   ],
   "metadata": {}
  },
  {
   "outputs": [
    {
     "output_type": "execute_result",
     "data": {
      "text/plain": "3-element Vector{String}:\n \"Please replace this placeholder file with a descriptive\"\n \"paragraph that may provide a product name, version #,\"\n \"and contact point for user support.\""
     },
     "metadata": {},
     "execution_count": 2
    }
   ],
   "cell_type": "code",
   "source": [
    "file_in=outputs*\"ex1/ex1_NCDatasets.nc\"\n",
    "~isfile(file_in) ? error(\"Running Example1 first is needed to run Example2\") : nothing\n",
    "\n",
    "file_out=outputs*\"ex2/ex2_NCDatasets.nc\"\n",
    "if ~ispath(outputs*\"ex2/\"); mkpath(outputs*\"ex2/\"); end\n",
    "\n",
    "README = readlines(joinpath(inputs,\"README\"))"
   ],
   "metadata": {},
   "execution_count": 2
  },
  {
   "cell_type": "markdown",
   "source": [
    "Get all the metadata from the file and set up NCvars"
   ],
   "metadata": {}
  },
  {
   "outputs": [
    {
     "output_type": "execute_result",
     "data": {
      "text/plain": "(Dict{String, NCvar}(\"ETAN\" => NCvar(\"ETAN\", \"m\", NCvar[NCvar(\"lon_c\", \"degrees_east\", 720, NCData(\"/tmp/NCTILES_TESTCASES_OUTPUT/ex1/ex1_NCDatasets.nc\", \"lon_c\", NCDatasets, Float64), Dict(\"units\" => \"degrees_east\", \"long_name\" => \"longitude\"), NCDatasets), NCvar(\"lat_c\", \"degrees_north\", 360, NCData(\"/tmp/NCTILES_TESTCASES_OUTPUT/ex1/ex1_NCDatasets.nc\", \"lat_c\", NCDatasets, Float64), Dict(\"units\" => \"degrees_north\", \"long_name\" => \"latitude\"), NCDatasets), NCvar(\"tim\", \"days since 1992-01-01\", 3, NCData(\"/tmp/NCTILES_TESTCASES_OUTPUT/ex1/ex1_NCDatasets.nc\", \"tim\", NCDatasets, Dates.DateTime), Dict(\"units\" => \"days since 1992-01-01\", \"long_name\" => \"tim\", \"standard_name\" => \"time\"), NCDatasets)], NCData(\"/tmp/NCTILES_TESTCASES_OUTPUT/ex1/ex1_NCDatasets.nc\", \"ETAN\", NCDatasets, Float32), Dict(\"units\" => \"m\", \"long_name\" => \"Surface Height Anomaly\"), NCDatasets)), Dict{String, NCvar}(\"lon_c\" => NCvar(\"lon_c\", \"degrees_east\", 720, NCData(\"/tmp/NCTILES_TESTCASES_OUTPUT/ex1/ex1_NCDatasets.nc\", \"lon_c\", NCDatasets, Float64), Dict(\"units\" => \"degrees_east\", \"long_name\" => \"longitude\"), NCDatasets), \"lat_c\" => NCvar(\"lat_c\", \"degrees_north\", 360, NCData(\"/tmp/NCTILES_TESTCASES_OUTPUT/ex1/ex1_NCDatasets.nc\", \"lat_c\", NCDatasets, Float64), Dict(\"units\" => \"degrees_north\", \"long_name\" => \"latitude\"), NCDatasets), \"tim\" => NCvar(\"tim\", \"days since 1992-01-01\", 3, NCData(\"/tmp/NCTILES_TESTCASES_OUTPUT/ex1/ex1_NCDatasets.nc\", \"tim\", NCDatasets, Dates.DateTime), Dict(\"units\" => \"days since 1992-01-01\", \"long_name\" => \"tim\", \"standard_name\" => \"time\"), NCDatasets)), Dict{Any, Any}(\"missing_value\" => NaN, \"ntile\" => 1.0, \"itile\" => 1.0, \"_FillValue\" => NaN))"
     },
     "metadata": {},
     "execution_count": 3
    }
   ],
   "cell_type": "code",
   "source": [
    "ncvars,ncdims,fileatts = readncfile(file_in)"
   ],
   "metadata": {},
   "execution_count": 3
  },
  {
   "cell_type": "markdown",
   "source": [
    "Rewrite to a file"
   ],
   "metadata": {}
  },
  {
   "outputs": [
    {
     "output_type": "execute_result",
     "data": {
      "text/plain": "closed NetCDF NCDataset"
     },
     "metadata": {},
     "execution_count": 4
    }
   ],
   "cell_type": "code",
   "source": [
    "write(ncvars,file_out,README=README,globalattribs=fileatts)"
   ],
   "metadata": {},
   "execution_count": 4
  },
  {
   "cell_type": "markdown",
   "source": [
    "Using NetCDF backend"
   ],
   "metadata": {}
  },
  {
   "outputs": [],
   "cell_type": "code",
   "source": [
    "file_out=outputs*\"ex2/ex2_NetCDF.nc\"\n",
    "ncvars,ncdims,fileatts = readncfile(file_in,NetCDF)\n",
    "write(ncvars,file_out,README=README,globalattribs=fileatts)"
   ],
   "metadata": {},
   "execution_count": 5
  },
  {
   "cell_type": "markdown",
   "source": [
    "---\n",
    "\n",
    "*This notebook was generated using [Literate.jl](https://github.com/fredrikekre/Literate.jl).*"
   ],
   "metadata": {}
  }
 ],
 "nbformat_minor": 3,
 "metadata": {
  "language_info": {
   "file_extension": ".jl",
   "mimetype": "application/julia",
   "name": "julia",
   "version": "1.7.3"
  },
  "kernelspec": {
   "name": "julia-1.7",
   "display_name": "Julia 1.7.3",
   "language": "julia"
  }
 },
 "nbformat": 4
}
