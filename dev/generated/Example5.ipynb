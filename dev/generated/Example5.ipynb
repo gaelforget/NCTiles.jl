{
 "cells": [
  {
   "cell_type": "markdown",
   "source": [
    "# Example 5 : Array Types\n",
    "\n",
    "A `ClimArray` (struct from `ClimateBase.jl`), which includes metadata read from nectdf file, is written back to a netcdf file via `NCTiles.jl`. Then the reverse is done to illustrate consistent workflows."
   ],
   "metadata": {}
  },
  {
   "outputs": [],
   "cell_type": "code",
   "source": [
    "using ClimateBase, NCDatasets, NCTiles, Dates, Unitful"
   ],
   "metadata": {},
   "execution_count": 1
  },
  {
   "cell_type": "markdown",
   "source": [
    "File Paths"
   ],
   "metadata": {}
  },
  {
   "outputs": [
    {
     "output_type": "execute_result",
     "data": {
      "text/plain": "\"/tmp/NCTILES_TESTCASES_OUTPUT/ex5\""
     },
     "metadata": {},
     "execution_count": 2
    }
   ],
   "cell_type": "code",
   "source": [
    "inputs=NCTiles.NCTILES_TESTCASES\n",
    "NCTiles.ensure_testcases_installed()\n",
    "\n",
    "outputs = joinpath(tempdir(),\"NCTILES_TESTCASES_OUTPUT/\")\n",
    "if ~ispath(outputs); mkpath(outputs); end\n",
    "\n",
    "savedir = joinpath(outputs,\"ex5\")\n",
    "if ~ispath(savedir); mkpath(savedir); end"
   ],
   "metadata": {},
   "execution_count": 2
  },
  {
   "cell_type": "markdown",
   "source": [
    "## 1. Read via NCTiles.jl and write via ClimateBase.jl"
   ],
   "metadata": {}
  },
  {
   "cell_type": "markdown",
   "source": [
    "### Helper function"
   ],
   "metadata": {}
  },
  {
   "outputs": [
    {
     "output_type": "execute_result",
     "data": {
      "text/plain": "Main.##266.NCvar_to_ClimArray"
     },
     "metadata": {},
     "execution_count": 3
    }
   ],
   "cell_type": "code",
   "source": [
    "\"\"\"\n",
    "        NCvar_to_ClimArray(ncvar::NCvar,ncdims::Dict)\n",
    "\n",
    "Creates a ClimArray struct, from a NCvar struct, which can then be written\n",
    "to a NetCDF file using `ClimateBase.ncwrite()`.\n",
    "\"\"\"\n",
    "function NCvar_to_ClimArray(ncvar::NCvar,ncdims::Dict)\n",
    "    lons=ncdims[\"lon_c\"].values[:]\n",
    "    lats=ncdims[\"lat_c\"].values[:]\n",
    "    t=ncdims[\"tim\"].values[:]\n",
    "    dimensions = (Lon(lons), Lat(lats), ClimateBase.Ti(t))\n",
    "\n",
    "    name=ncvar.name\n",
    "    data=ncvar.values[:]\n",
    "    units=ncvar.units\n",
    "    return ClimArray(data, dimensions; name = name, attrib = Dict(\"units\" => units))\n",
    "end"
   ],
   "metadata": {},
   "execution_count": 3
  },
  {
   "cell_type": "markdown",
   "source": [
    "### Main call sequence :"
   ],
   "metadata": {}
  },
  {
   "outputs": [
    {
     "name": "stdout",
     "output_type": "stream",
     "text": [
      "processing variable ETAN...\n",
      "writing dimension lon...\n",
      "┌ Warning: Dimension lon has no attributes, adding default attributes (mandatory).\n",
      "└ @ ClimateBase ~/.julia/packages/ClimateBase/HXqDN/src/core/nc_io.jl:454\n",
      "writing dimension lat...\n",
      "┌ Warning: Dimension lat has no attributes, adding default attributes (mandatory).\n",
      "└ @ ClimateBase ~/.julia/packages/ClimateBase/HXqDN/src/core/nc_io.jl:454\n",
      "writing dimension time...\n",
      "┌ Warning: Dimension time has no attributes, adding default attributes (mandatory).\n",
      "└ @ ClimateBase ~/.julia/packages/ClimateBase/HXqDN/src/core/nc_io.jl:454\n"
     ]
    },
    {
     "output_type": "execute_result",
     "data": {
      "text/plain": "closed NetCDF NCDataset"
     },
     "metadata": {},
     "execution_count": 4
    }
   ],
   "cell_type": "code",
   "source": [
    "fil=joinpath(outputs,\"ex1/ex1_NetCDF.nc\")\n",
    "ncvars,ncdims,fileatts = NCTiles.readncfile(fil)\n",
    "\n",
    "#filout=joinpath(savedir,\"ex5_NCTiles.nc\")\n",
    "#write(ncvars[\"ETAN\"],filout,globalattribs=fileatts)\n",
    "\n",
    "filout=joinpath(savedir,\"ex5_ClimateBase.nc\")\n",
    "A=NCvar_to_ClimArray(ncvars[\"ETAN\"],ncdims)\n",
    "ClimateBase.ncwrite(filout, A)"
   ],
   "metadata": {},
   "execution_count": 4
  },
  {
   "cell_type": "markdown",
   "source": [
    "## 2. Read via ClimateBase.jl and write via NCTiles.jl\n",
    "\n",
    "### Helper function"
   ],
   "metadata": {}
  },
  {
   "outputs": [
    {
     "output_type": "execute_result",
     "data": {
      "text/plain": "Main.##266.ClimArray_to_NCvar"
     },
     "metadata": {},
     "execution_count": 5
    }
   ],
   "cell_type": "code",
   "source": [
    "\"\"\"\n",
    "        ClimArray_to_NCvar(C::ClimGrid,N::String)\n",
    "\n",
    "Creates an NCvar struct, from a ClimArray struct, which can then be written\n",
    "to a NetCDF file using `NCTiles.write()`.\n",
    "\n",
    "```\n",
    "C = ClimateBase.ncread(fil, \"ETAN\")\n",
    "writefld = ClimArray_to_NCvar(C,\"ETAN\")\n",
    "NCTiles.write(writefld,\"myfile.nc\")\n",
    "```\n",
    "\"\"\"\n",
    "function ClimArray_to_NCvar(C::ClimArray,N::String)\n",
    "        x = C.dims[1][:]\n",
    "        y = C.dims[2][:]\n",
    "        timevec = DateTime.(C.dims[3][:])\n",
    "        timeunit = \"days since 1992-01-01\"\n",
    "        timevec = NCDatasets.timeencode(timevec, timeunit)\n",
    "\n",
    "        dims = [NCvar(\"lon\",\"degrees_east\",size(C.data)[1],x,Dict(\"long_name\" => \"longitude\"),NCDatasets),\n",
    "                NCvar(\"lat\",\"degrees_north\",size(C.data)[2],y,Dict(\"long_name\" => \"latitude\"),NCDatasets),\n",
    "                NCvar(\"time\",timeunit,Inf,timevec,Dict((\"long_name\" => \"Ti\",\"standard_name\" => \"time\")),NCDatasets)\n",
    "                ]\n",
    "\n",
    "        return NCvar(N,C.attrib[\"units\"],dims,C.data,C.attrib,NCDatasets)\n",
    "end"
   ],
   "metadata": {},
   "execution_count": 5
  },
  {
   "cell_type": "markdown",
   "source": [
    "## Main call sequence :\n",
    "\n",
    "_Note: `ClimateBase.jl` relies on specific dimension names to identify space and time dimensions (as follows). This sometimes lead to warnings when files use different names._\n",
    "\n",
    "- latitude: lat, latitude, rlat, y, yc\n",
    "- longitude: lon, longitude, rlon, x, xc\n",
    "- time: time"
   ],
   "metadata": {}
  },
  {
   "outputs": [
    {
     "name": "stdout",
     "output_type": "stream",
     "text": [
      "┌ Warning: Dimension name \"lon_c\" not in common names.\n",
      "│ Making a generic dimension named `Dim{:lon_c}` for now...\n",
      "└ @ ClimateBase ~/.julia/packages/ClimateBase/HXqDN/src/core/nc_io.jl:205\n",
      "┌ Warning: Dimension name \"lat_c\" not in common names.\n",
      "│ Making a generic dimension named `Dim{:lat_c}` for now...\n",
      "└ @ ClimateBase ~/.julia/packages/ClimateBase/HXqDN/src/core/nc_io.jl:205\n",
      "┌ Warning: Dimension name \"tim\" not in common names.\n",
      "│ Making a generic dimension named `Dim{:tim}` for now...\n",
      "└ @ ClimateBase ~/.julia/packages/ClimateBase/HXqDN/src/core/nc_io.jl:205\n",
      "┌ Warning: Dimension name \"lon_c\" not in common names.\n",
      "│ Making a generic dimension named `Dim{:lon_c}` for now...\n",
      "└ @ ClimateBase ~/.julia/packages/ClimateBase/HXqDN/src/core/nc_io.jl:205\n",
      "┌ Warning: Dimension name \"lat_c\" not in common names.\n",
      "│ Making a generic dimension named `Dim{:lat_c}` for now...\n",
      "└ @ ClimateBase ~/.julia/packages/ClimateBase/HXqDN/src/core/nc_io.jl:205\n",
      "┌ Warning: Dimension name \"tim\" not in common names.\n",
      "│ Making a generic dimension named `Dim{:tim}` for now...\n",
      "└ @ ClimateBase ~/.julia/packages/ClimateBase/HXqDN/src/core/nc_io.jl:205\n"
     ]
    },
    {
     "output_type": "execute_result",
     "data": {
      "text/plain": "(\u001b[0m  name        = \u001b[34mETAN\u001b[39m\n\u001b[0m  unit        = \u001b[34mm\u001b[39m\n\u001b[0m  data type   = \u001b[34mFloat32\u001b[39m\n\u001b[0m  cell pos.   = \u001b[34m[0.5, 0.5, 0.5]\u001b[39m\n\u001b[0m  tile array  = \u001b[36m(1, 3)\u001b[39m\n\u001b[0m  tile sizes  = \u001b[36m(720, 360)\u001b[39m\n\u001b[0m  grid class  = \u001b[32mPeriodicDomain\u001b[39m\n\u001b[0m  MeshArray   = \u001b[32mgcmarray \u001b[39m\n\u001b[0m  version     = \u001b[32m0.2.21 \u001b[39m\n, (XC = \u001b[0m  data type   = \u001b[34mFloat64\u001b[39m\n\u001b[0m  cell pos.   = \u001b[34m[0.5, 0.5, 0.5]\u001b[39m\n\u001b[0m  tile array  = \u001b[36m(1,)\u001b[39m\n\u001b[0m  tile sizes  = \u001b[36m(720, 720)\u001b[39m\n\u001b[0m  grid class  = \u001b[32mPeriodicDomain\u001b[39m\n\u001b[0m  MeshArray   = \u001b[32mgcmarray \u001b[39m\n\u001b[0m  version     = \u001b[32m0.2.21 \u001b[39m\n, YC = \u001b[0m  data type   = \u001b[34mFloat64\u001b[39m\n\u001b[0m  cell pos.   = \u001b[34m[0.5, 0.5, 0.5]\u001b[39m\n\u001b[0m  tile array  = \u001b[36m(1,)\u001b[39m\n\u001b[0m  tile sizes  = \u001b[36m(360, 360)\u001b[39m\n\u001b[0m  grid class  = \u001b[32mPeriodicDomain\u001b[39m\n\u001b[0m  MeshArray   = \u001b[32mgcmarray \u001b[39m\n\u001b[0m  version     = \u001b[32m0.2.21 \u001b[39m\n))"
     },
     "metadata": {},
     "execution_count": 6
    }
   ],
   "cell_type": "code",
   "source": [
    "ETAN = ClimateBase.ncread(fil, \"ETAN\")\n",
    "ETAN = ClimArray_to_NCvar(ETAN,\"ETAN\")\n",
    "filout=joinpath(savedir,\"ex5_ClimArray_to_NCvar.nc\")\n",
    "NCTiles.write(ETAN,filout)\n",
    "\n",
    "#\n",
    "\n",
    "using MeshArrays\n",
    "\n",
    "function ClimArray_to_MeshArray(C::ClimArray)\n",
    "        u=uparse(C.attrib[\"units\"])\n",
    "        n=string(C.name)\n",
    "        ln=C.attrib[\"long_name\"]\n",
    "        tim=DateTime.(collect(tmp.dims[3][:]))\n",
    "        m=varmeta(u,fill(0.5,3),tim,n,ln)\n",
    "        #MeshArray(C.data;meta=m)\n",
    "\n",
    "        nlon=length(tmp.dims[1][:])\n",
    "        nlat=length(tmp.dims[2][:])\n",
    "        XC = MeshArray(tmp.dims[1][:]*ones(1,nlon))\n",
    "        YC = MeshArray(ones(nlat,1)*tmp.dims[2][:]')\n",
    "        Γ = (XC=XC,YC=YC)\n",
    "\n",
    "        MeshArray(C.data;meta=m),Γ\n",
    "end\n",
    "\n",
    "function NCvar_to_MeshArray(ncvar::NCvar)\n",
    "        u=uparse(ncvar.units)\n",
    "        n=string(ncvar.name)\n",
    "        ln=ncvar.atts[\"long_name\"]\n",
    "        tim=ncvar.dims[3].values[:]\n",
    "        m=varmeta(u,fill(0.5,3),tim,n,ln)\n",
    "        #MeshArray(ncvar.values[:];meta=m)\n",
    "\n",
    "        nlon=length(ncvar.dims[1].values[:])\n",
    "        nlat=length(ncvar.dims[2].values[:])\n",
    "        XC = MeshArray(ncvar.dims[1].values[:]*ones(1,nlon))\n",
    "        YC = MeshArray(ones(nlat,1)*ncvar.dims[2].values[:]')\n",
    "        Γ = (XC=XC,YC=YC)\n",
    "\n",
    "        MeshArray(ncvar.values[:];meta=m),Γ\n",
    "end\n",
    "\n",
    "fil=joinpath(outputs,\"ex1/ex1_NetCDF.nc\")\n",
    "tmp = ClimateBase.ncread(fil, \"ETAN\")\n",
    "ETAN,Γ = ClimArray_to_MeshArray(tmp)\n",
    "\n",
    "ncvars,ncdims,fileatts = NCTiles.readncfile(fil)\n",
    "ETAN,Γ = NCvar_to_MeshArray(ncvars[\"ETAN\"])"
   ],
   "metadata": {},
   "execution_count": 6
  },
  {
   "cell_type": "markdown",
   "source": [
    "---\n",
    "\n",
    "*This notebook was generated using [Literate.jl](https://github.com/fredrikekre/Literate.jl).*"
   ],
   "metadata": {}
  }
 ],
 "nbformat_minor": 3,
 "metadata": {
  "language_info": {
   "file_extension": ".jl",
   "mimetype": "application/julia",
   "name": "julia",
   "version": "1.6.2"
  },
  "kernelspec": {
   "name": "julia-1.6",
   "display_name": "Julia 1.6.2",
   "language": "julia"
  }
 },
 "nbformat": 4
}
